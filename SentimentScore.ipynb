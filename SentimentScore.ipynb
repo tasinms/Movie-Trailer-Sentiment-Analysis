{
 "cells": [
  {
   "cell_type": "code",
   "execution_count": 5,
   "metadata": {},
   "outputs": [],
   "source": [
    "import pandas as pd\n",
    "import numpy as np"
   ]
  },
  {
   "cell_type": "code",
   "execution_count": 6,
   "metadata": {},
   "outputs": [
    {
     "data": {
      "text/html": [
       "<div>\n",
       "<style scoped>\n",
       "    .dataframe tbody tr th:only-of-type {\n",
       "        vertical-align: middle;\n",
       "    }\n",
       "\n",
       "    .dataframe tbody tr th {\n",
       "        vertical-align: top;\n",
       "    }\n",
       "\n",
       "    .dataframe thead th {\n",
       "        text-align: right;\n",
       "    }\n",
       "</style>\n",
       "<table border=\"1\" class=\"dataframe\">\n",
       "  <thead>\n",
       "    <tr style=\"text-align: right;\">\n",
       "      <th></th>\n",
       "      <th>ID</th>\n",
       "      <th>Title</th>\n",
       "      <th>Trailer ID</th>\n",
       "      <th>Comment</th>\n",
       "      <th>Sentiment</th>\n",
       "    </tr>\n",
       "  </thead>\n",
       "  <tbody>\n",
       "    <tr>\n",
       "      <th>0</th>\n",
       "      <td>0</td>\n",
       "      <td>Daybreakers</td>\n",
       "      <td>U6NmZS9CTKE</td>\n",
       "      <td>Very few trailers give me goosebumps- but this...</td>\n",
       "      <td>POSITIVE</td>\n",
       "    </tr>\n",
       "    <tr>\n",
       "      <th>1</th>\n",
       "      <td>0</td>\n",
       "      <td>Daybreakers</td>\n",
       "      <td>U6NmZS9CTKE</td>\n",
       "      <td>One of the best vampire movies of the past dec...</td>\n",
       "      <td>POSITIVE</td>\n",
       "    </tr>\n",
       "    <tr>\n",
       "      <th>2</th>\n",
       "      <td>0</td>\n",
       "      <td>Daybreakers</td>\n",
       "      <td>U6NmZS9CTKE</td>\n",
       "      <td>This movie isn't about vampires but about real...</td>\n",
       "      <td>POSITIVE</td>\n",
       "    </tr>\n",
       "    <tr>\n",
       "      <th>3</th>\n",
       "      <td>0</td>\n",
       "      <td>Daybreakers</td>\n",
       "      <td>U6NmZS9CTKE</td>\n",
       "      <td>So original so different very good vampire film</td>\n",
       "      <td>POSITIVE</td>\n",
       "    </tr>\n",
       "    <tr>\n",
       "      <th>4</th>\n",
       "      <td>0</td>\n",
       "      <td>Daybreakers</td>\n",
       "      <td>U6NmZS9CTKE</td>\n",
       "      <td>Why didn’t they use this song in the ending cr...</td>\n",
       "      <td>POSITIVE</td>\n",
       "    </tr>\n",
       "  </tbody>\n",
       "</table>\n",
       "</div>"
      ],
      "text/plain": [
       "   ID        Title   Trailer ID  \\\n",
       "0   0  Daybreakers  U6NmZS9CTKE   \n",
       "1   0  Daybreakers  U6NmZS9CTKE   \n",
       "2   0  Daybreakers  U6NmZS9CTKE   \n",
       "3   0  Daybreakers  U6NmZS9CTKE   \n",
       "4   0  Daybreakers  U6NmZS9CTKE   \n",
       "\n",
       "                                             Comment Sentiment  \n",
       "0  Very few trailers give me goosebumps- but this...  POSITIVE  \n",
       "1  One of the best vampire movies of the past dec...  POSITIVE  \n",
       "2  This movie isn't about vampires but about real...  POSITIVE  \n",
       "3    So original so different very good vampire film  POSITIVE  \n",
       "4  Why didn’t they use this song in the ending cr...  POSITIVE  "
      ]
     },
     "execution_count": 6,
     "metadata": {},
     "output_type": "execute_result"
    }
   ],
   "source": [
    "df = pd.read_csv('MovieCommentsWithSentiment.csv')\n",
    "df.head()"
   ]
  },
  {
   "cell_type": "code",
   "execution_count": 7,
   "metadata": {},
   "outputs": [
    {
     "name": "stdout",
     "output_type": "stream",
     "text": [
      "Sentiment\n",
      "POSITIVE    102636\n",
      "NEGATIVE     57502\n",
      "Name: count, dtype: int64\n"
     ]
    }
   ],
   "source": [
    "sentiment_counts = df['Sentiment'].value_counts()\n",
    "print(sentiment_counts)\n"
   ]
  },
  {
   "cell_type": "code",
   "execution_count": 8,
   "metadata": {},
   "outputs": [
    {
     "name": "stdout",
     "output_type": "stream",
     "text": [
      "          ID              Title   Trailer ID  \\\n",
      "0          0        Daybreakers  U6NmZS9CTKE   \n",
      "1          0        Daybreakers  U6NmZS9CTKE   \n",
      "2          0        Daybreakers  U6NmZS9CTKE   \n",
      "3          0        Daybreakers  U6NmZS9CTKE   \n",
      "4          0        Daybreakers  U6NmZS9CTKE   \n",
      "...      ...                ...          ...   \n",
      "160133  1994  A Man Called Otto  eFYUX9l-m5I   \n",
      "160134  1994  A Man Called Otto  eFYUX9l-m5I   \n",
      "160135  1994  A Man Called Otto  eFYUX9l-m5I   \n",
      "160136  1994  A Man Called Otto  eFYUX9l-m5I   \n",
      "160137  1994  A Man Called Otto  eFYUX9l-m5I   \n",
      "\n",
      "                                                  Comment Sentiment  \\\n",
      "0       Very few trailers give me goosebumps- but this...  POSITIVE   \n",
      "1       One of the best vampire movies of the past dec...  POSITIVE   \n",
      "2       This movie isn't about vampires but about real...  POSITIVE   \n",
      "3         So original so different very good vampire film  POSITIVE   \n",
      "4       Why didn’t they use this song in the ending cr...  POSITIVE   \n",
      "...                                                   ...       ...   \n",
      "160133  I started the book but never completed it, but...  POSITIVE   \n",
      "160134  I'm definitely going to cry again. It's a thin...  NEGATIVE   \n",
      "160135  Thanks to all of you who commented on this aft...  POSITIVE   \n",
      "160136  The scenes when Otto is talking to Sonya in th...  POSITIVE   \n",
      "160137  Tom what a great actor, this man has nailed ev...  POSITIVE   \n",
      "\n",
      "        SentimentScore  \n",
      "0             0.642857  \n",
      "1             0.642857  \n",
      "2             0.642857  \n",
      "3             0.642857  \n",
      "4             0.642857  \n",
      "...                ...  \n",
      "160133        0.880000  \n",
      "160134        0.880000  \n",
      "160135        0.880000  \n",
      "160136        0.880000  \n",
      "160137        0.880000  \n",
      "\n",
      "[160138 rows x 6 columns]\n"
     ]
    }
   ],
   "source": [
    "df['SentimentScore'] = df.groupby('ID')['Sentiment'].transform(lambda x: (x == 'POSITIVE').sum() / len(x))\n",
    "print(df)\n"
   ]
  },
  {
   "cell_type": "code",
   "execution_count": 9,
   "metadata": {},
   "outputs": [],
   "source": [
    "df.to_csv('MovieCommentsWithSentimentScore.csv', index=False)"
   ]
  }
 ],
 "metadata": {
  "kernelspec": {
   "display_name": "Python 3",
   "language": "python",
   "name": "python3"
  },
  "language_info": {
   "codemirror_mode": {
    "name": "ipython",
    "version": 3
   },
   "file_extension": ".py",
   "mimetype": "text/x-python",
   "name": "python",
   "nbconvert_exporter": "python",
   "pygments_lexer": "ipython3",
   "version": "3.10.7"
  }
 },
 "nbformat": 4,
 "nbformat_minor": 2
}
